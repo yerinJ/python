{
  "nbformat": 4,
  "nbformat_minor": 0,
  "metadata": {
    "colab": {
      "provenance": [],
      "collapsed_sections": []
    },
    "kernelspec": {
      "name": "python3",
      "display_name": "Python 3"
    },
    "language_info": {
      "name": "python"
    }
  },
  "cells": [
    {
      "cell_type": "code",
      "execution_count": null,
      "metadata": {
        "colab": {
          "base_uri": "https://localhost:8080/"
        },
        "id": "Jur2j5V3fJ8T",
        "outputId": "ee81a6f4-4959-4484-b06a-e46d18c3439e"
      },
      "outputs": [
        {
          "output_type": "stream",
          "name": "stdout",
          "text": [
            "총점 : 255\n",
            "평균 : 85.00\n"
          ]
        }
      ],
      "source": [
        "korean = 100\n",
        "english = 80\n",
        "math = 75\n",
        "\n",
        "total = korean+english+math\n",
        "average = (korean+english+math)/3\n",
        "\n",
        "print(\"총점 :\",total)\n",
        "print(\"평균 : {0:0,.2f}\".format(average))"
      ]
    },
    {
      "cell_type": "code",
      "source": [],
      "metadata": {
        "id": "ZDnHRpFkqS5y"
      },
      "execution_count": null,
      "outputs": []
    }
  ]
}